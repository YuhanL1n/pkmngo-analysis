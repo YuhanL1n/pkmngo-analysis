{
 "cells": [
  {
   "cell_type": "code",
   "execution_count": 3,
   "metadata": {},
   "outputs": [],
   "source": [
    "import csv\n",
    "from math import floor\n",
    "pkmn_list = []\n",
    "with open('Pokemon.csv') as csvfile:\n",
    "    with open('pokemon-go.csv', 'w+') as pokemongofile:\n",
    "        fieldnames = ['name', 'attack', 'defense', 'stamina', 'all']\n",
    "        writer = csv.DictWriter(pokemongofile, fieldnames=fieldnames)\n",
    "\n",
    "        writer.writeheader()\n",
    "\n",
    "        reader = csv.DictReader(csvfile)\n",
    "        for row in reader:\n",
    "            atk = float(row['Attack'])\n",
    "            defence = float(row['Defense'])\n",
    "            spatk = float(row['Sp. Atk'])\n",
    "            spdef = float(row['Sp. Def'])\n",
    "            speed = float(row['Speed'])\n",
    "            hp = float(row['HP'])\n",
    "        \n",
    "            atk_go = round(round(2*(7*max(atk, spatk)/8 + min(atk, spatk)/8))*(1+(speed-75)/500))\n",
    "            defence_go = round(round(2*(5*max(defence, spdef)/8 + 3*min(defence, spdef)/8))*(1+(speed-75)/500))\n",
    "            hp_go = round((hp*1.75+50))\n",
    "            \n",
    "            writer.writerow({'name': row['Name'], 'attack':int(atk_go), 'defense':int(defence_go), 'stamina':int(hp_go), 'all':int(atk_go+defence_go+hp_go)})\n",
    "            pkmn_list.append({'name': row['Name'], 'attack':int(atk_go), 'defense':int(defence_go), 'stamina':int(hp_go), 'all':int(atk_go+defence_go+hp_go), 'precentage':round((defence_go+hp_go)/(atk_go+defence_go+hp_go),2)})\n",
    "        "
   ]
  },
  {
   "cell_type": "code",
   "execution_count": 24,
   "metadata": {},
   "outputs": [],
   "source": [
    "def myFunc(e):\n",
    "    return e['precentage']\n",
    "\n",
    "pkmn_list.sort(reverse=True, key=myFunc)\n",
    "\n",
    "with open('pokemon-go-sort-precentage.csv', 'w+') as csvFile:\n",
    "    fieldnames = ['name', 'attack', 'defense', 'stamina', 'all', 'precentage']\n",
    "    writer = csv.DictWriter(csvFile, fieldnames=fieldnames)\n",
    "\n",
    "    writer.writeheader()\n",
    "    for pkmn in pkmn_list:\n",
    "        writer.writerow(pkmn)"
   ]
  },
  {
   "cell_type": "code",
   "execution_count": null,
   "metadata": {},
   "outputs": [],
   "source": []
  }
 ],
 "metadata": {
  "kernelspec": {
   "display_name": "Python 2",
   "language": "python",
   "name": "python2"
  },
  "language_info": {
   "codemirror_mode": {
    "name": "ipython",
    "version": 2
   },
   "file_extension": ".py",
   "mimetype": "text/x-python",
   "name": "python",
   "nbconvert_exporter": "python",
   "pygments_lexer": "ipython2",
   "version": "2.7.15"
  }
 },
 "nbformat": 4,
 "nbformat_minor": 2
}
