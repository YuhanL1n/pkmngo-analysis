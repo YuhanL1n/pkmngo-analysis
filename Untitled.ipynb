{
 "cells": [
  {
   "cell_type": "code",
   "execution_count": 10,
   "metadata": {},
   "outputs": [],
   "source": [
    "import csv\n",
    "with open('Pokemon.csv') as csvfile:\n",
    "    with open('pokemon-go.csv', 'w+') as pokemongofile:\n",
    "        fieldnames = ['name', 'attack', 'defense', 'stamina']\n",
    "        writer = csv.DictWriter(pokemongofile, fieldnames=fieldnames)\n",
    "\n",
    "        writer.writeheader()\n",
    "\n",
    "        reader = csv.DictReader(csvfile)\n",
    "        for row in reader:\n",
    "            atk = float(row['Attack'])\n",
    "            defence = float(row['Defense'])\n",
    "            spatk = float(row['Sp. Atk'])\n",
    "            spdef = float(row['Sp. Def'])\n",
    "            speed = float(row['Speed'])\n",
    "            hp = float(row['HP'])\n",
    "        \n",
    "            atk_go = round(round(2*(7*max(atk, spatk)/8 + min(atk, spatk)/8))*(1+(speed-75)/500))\n",
    "            defence_go = round(round(2*(7*max(defence, spdef)/8 + min(defence, spdef)/8))*(1+(speed-75)/500))\n",
    "            hp_go = hp*2\n",
    "            \n",
    "            writer.writerow({'name': row['Name'], 'attack':atk_go, 'defense':defence_go, 'stamina':hp_go})\n",
    "        "
   ]
  },
  {
   "cell_type": "code",
   "execution_count": null,
   "metadata": {},
   "outputs": [],
   "source": []
  }
 ],
 "metadata": {
  "kernelspec": {
   "display_name": "Python 2",
   "language": "python",
   "name": "python2"
  },
  "language_info": {
   "codemirror_mode": {
    "name": "ipython",
    "version": 2
   },
   "file_extension": ".py",
   "mimetype": "text/x-python",
   "name": "python",
   "nbconvert_exporter": "python",
   "pygments_lexer": "ipython2",
   "version": "2.7.15"
  }
 },
 "nbformat": 4,
 "nbformat_minor": 2
}
